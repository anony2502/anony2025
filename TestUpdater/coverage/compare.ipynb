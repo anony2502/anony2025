{
 "cells": [
  {
   "cell_type": "code",
   "execution_count": null,
   "id": "311c9b24",
   "metadata": {},
   "outputs": [],
   "source": [
    "# calculate jointly-pass coverage\n",
    "import pandas as pd\n",
    "\n",
    "csv1 = 'synter_deepseek.csv'\n",
    "csv2 = 'pip_deepseek.csv'\n",
    "\n",
    "column_names = \"GROUP,PACKAGE,CLASS,INSTRUCTION_MISSED,INSTRUCTION_COVERED,BRANCH_MISSED,BRANCH_COVERED,LINE_MISSED,LINE_COVERED,COMPLEXITY_MISSED,COMPLEXITY_COVERED,METHOD_MISSED,METHOD_COVERED\"\n",
    "column_names = column_names.split(',')\n",
    "\n",
    "df1 = pd.read_csv(csv1, header=None, names=column_names)\n",
    "# find non_empty rows\n",
    "non_empty_rows = ~df1.isnull().all(axis=1)\n",
    "line_numbers = df1[non_empty_rows].index.tolist()\n",
    "set1 = set(line_numbers)\n",
    "print(line_numbers)\n",
    "\n",
    "df2 = pd.read_csv(csv2, header=None, names=column_names)\n",
    "# find non_empty rows\n",
    "non_empty_rows = ~df2.isnull().all(axis=1)\n",
    "line_numbers = df2[non_empty_rows].index.tolist()\n",
    "set2 = set(line_numbers)\n",
    "print(line_numbers)\n",
    "\n",
    "intersection = sorted(list(set1 ^ set2))\n",
    "print(intersection)"
   ]
  },
  {
   "cell_type": "code",
   "execution_count": null,
   "id": "2c1593d7",
   "metadata": {},
   "outputs": [],
   "source": [
    "def cal_cover(df):\n",
    "    BRANCH_COV = []\n",
    "    LINE_COV = []\n",
    "    test_pass = 0\n",
    "    for idx, row in df.iterrows():\n",
    "        if pd.isna(row).all():\n",
    "            BRANCH_COV.append(0)\n",
    "            LINE_COV.append(0)\n",
    "        else:\n",
    "            test_pass += 1\n",
    "\n",
    "            branch_cov = row[\"BRANCH_COVERED\"]\n",
    "            if branch_cov != 0:\n",
    "                branch_cov = row[\"BRANCH_COVERED\"] / (row[\"BRANCH_MISSED\"] + row[\"BRANCH_COVERED\"])\n",
    "\n",
    "            line_cov = row[\"LINE_COVERED\"]\n",
    "            if line_cov != 0:\n",
    "                line_cov = row[\"LINE_COVERED\"] / (row[\"LINE_MISSED\"] + row[\"LINE_COVERED\"])\n",
    "\n",
    "            BRANCH_COV.append(branch_cov)\n",
    "            LINE_COV.append(line_cov)\n",
    "    return test_pass, sum(BRANCH_COV)/len(df), sum(LINE_COV)/len(df)\n",
    "\n",
    "df1 = df1.iloc[intersection]\n",
    "df2 = df2.iloc[intersection]\n",
    "\n",
    "tp1, b1, l1 = cal_cover(df1)\n",
    "tp2, b2, l2 = cal_cover(df2)\n",
    "print(tp1, b1, l1)\n",
    "print(tp2, b2, l2)"
   ]
  }
 ],
 "metadata": {
  "kernelspec": {
   "display_name": "syn",
   "language": "python",
   "name": "python3"
  },
  "language_info": {
   "codemirror_mode": {
    "name": "ipython",
    "version": 3
   },
   "file_extension": ".py",
   "mimetype": "text/x-python",
   "name": "python",
   "nbconvert_exporter": "python",
   "pygments_lexer": "ipython3",
   "version": "3.10.15"
  }
 },
 "nbformat": 4,
 "nbformat_minor": 5
}
